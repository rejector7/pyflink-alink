{
 "cells": [
  {
   "cell_type": "markdown",
   "id": "0fe93337-d331-4dc2-8e54-dede97896feb",
   "metadata": {},
   "source": [
    "# pyflink在实际算法流程中的测试\n",
    "\n",
    "我们模拟了一个实际数据表，in_loan_behavior。文件为：created_in_loan_behavior.csv。\n",
    "重点解决了一个问题：\n",
    "\n",
    "    使用flink加载csv时，需要提供csv文件中的列名和列类型。数据表可能有上百个列，如何获取这两组数据是一个难点。\n",
    "    为此，我们使用了一个映射表，将数据库列类型映射为flinktable列类型。只要能获取到数据库schema就可以解决这个问题。\n",
    "    并且，展示了如何使用flinktable加载csv文件的细节。\n",
    "\n",
    "我们对pyflink table和pandas加载csv文件进行了比较测试。\n",
    "\n",
    "我们发现，在加载csv文件上，使用pyflink大概比pandas直接读取要快10-100倍。\n",
    "缺点是无法即时可视化。\n",
    "使用建议是，flinktable进行多个处理步骤后，再使用to_pandas()查看。因为to_pandas()耗时较大。"
   ]
  },
  {
   "cell_type": "code",
   "execution_count": 1,
   "id": "82593e93-ac9f-42d3-8d1a-027e87715fa4",
   "metadata": {},
   "outputs": [
    {
     "data": {
      "text/plain": [
       "<pyflink.common.configuration.Configuration at 0x7f99a4f529e8>"
      ]
     },
     "execution_count": 1,
     "metadata": {},
     "output_type": "execute_result"
    }
   ],
   "source": [
    "from pyflink.table import *\n",
    "from pyflink.table.types import *\n",
    "\n",
    "environment_settings = EnvironmentSettings.new_instance().in_batch_mode().use_blink_planner().build()\n",
    "t_env = BatchTableEnvironment.create(environment_settings=environment_settings)\n",
    "t_env.get_config().get_configuration().set_string(\"parallelism.default\", \"1\")"
   ]
  },
  {
   "cell_type": "code",
   "execution_count": 2,
   "id": "58054884-1a46-4540-a8da-bac783103305",
   "metadata": {},
   "outputs": [],
   "source": [
    "# 准备数据表schema\n",
    "# 从数据表的字段名字和类型文件中获取二者的数组\n",
    "\n",
    "def get_columns_and_types():\n",
    "    processed_schema_file = \"./dataset/IN_LOAN_BEHAVIOR_02.txt\"\n",
    "    column_names = []\n",
    "    column_types = []\n",
    "    with open(processed_schema_file) as f:\n",
    "        lines = f.readlines()\n",
    "        for i, line in enumerate(lines):\n",
    "            if i % 2 == 0:\n",
    "                column_names.append(line.strip())\n",
    "            else:\n",
    "                column_types.append(line.strip())\n",
    "    return column_names, column_types\n",
    "            \n",
    "\n",
    "column_names, column_types = get_columns_and_types()"
   ]
  },
  {
   "cell_type": "code",
   "execution_count": 3,
   "id": "af1f54a3-1499-4643-a022-4fc06f83c49f",
   "metadata": {},
   "outputs": [
    {
     "data": {
      "text/plain": [
       "342"
      ]
     },
     "execution_count": 3,
     "metadata": {},
     "output_type": "execute_result"
    }
   ],
   "source": [
    "column_names\n",
    "len(column_names)"
   ]
  },
  {
   "cell_type": "code",
   "execution_count": 4,
   "id": "7303ffe9-cdf9-4a83-b672-367c9b412aaa",
   "metadata": {},
   "outputs": [
    {
     "data": {
      "text/plain": [
       "342"
      ]
     },
     "execution_count": 4,
     "metadata": {},
     "output_type": "execute_result"
    }
   ],
   "source": [
    "column_types\n",
    "len(column_types)"
   ]
  },
  {
   "cell_type": "code",
   "execution_count": 5,
   "id": "960c3f85-66df-49ed-9d60-792ae651971c",
   "metadata": {},
   "outputs": [
    {
     "data": {
      "text/plain": [
       "{'BIGINT', 'DATETIME', 'DECIMAL', 'DOUBLE', 'INT', 'VARCHAR'}"
      ]
     },
     "execution_count": 5,
     "metadata": {},
     "output_type": "execute_result"
    }
   ],
   "source": [
    "column_types_set = set(column_types)\n",
    "column_types_set"
   ]
  },
  {
   "cell_type": "code",
   "execution_count": 6,
   "id": "83018ae0-1e0c-47d9-900d-0e1a42a03abf",
   "metadata": {},
   "outputs": [
    {
     "data": {
      "text/plain": [
       "{'INT': IntType(true),\n",
       " 'FLOAT': FloatType(true),\n",
       " 'DOUBLE': DoubleType(true),\n",
       " 'BIGINT': BigIntType(true),\n",
       " 'DECIMAL': DecimalType(38, 18, true),\n",
       " 'VARCHAR': VarCharType(2147483647, true),\n",
       " 'DATE': DateType(true),\n",
       " 'TIME': TimeType(0, true),\n",
       " 'DATETIME': TimestampType(3, true)}"
      ]
     },
     "execution_count": 6,
     "metadata": {},
     "output_type": "execute_result"
    }
   ],
   "source": [
    "# 数据库列类型和pyflink类型映射表\n",
    "types_map = {\n",
    "    'INT':DataTypes.INT(),\n",
    "    'FLOAT':DataTypes.FLOAT(),\n",
    "    'DOUBLE':DataTypes.DOUBLE(),\n",
    "    'BIGINT':DataTypes.BIGINT(),\n",
    "    'DECIMAL':DataTypes.DECIMAL(38,18),\n",
    "    'VARCHAR':DataTypes.STRING(),\n",
    "    'DATE':DataTypes.DATE(), #日期\n",
    "    'TIME':DataTypes.TIME(), #时间\n",
    "    'DATETIME':DataTypes.TIMESTAMP(3), #日期+时间\n",
    "}\n",
    "types_map"
   ]
  },
  {
   "cell_type": "code",
   "execution_count": 7,
   "id": "efe0fe06-29fc-4100-8671-a2720bf92c86",
   "metadata": {},
   "outputs": [],
   "source": [
    "#构建tablesource所需的两个数组：field_names, field_types\n",
    "field_names = column_names\n",
    "field_types = []\n",
    "for column_type in column_types:\n",
    "    field_types.append(types_map[column_type])"
   ]
  },
  {
   "cell_type": "code",
   "execution_count": 8,
   "id": "896ffc3b-b65b-40db-93d0-cded3bf86fab",
   "metadata": {},
   "outputs": [],
   "source": [
    "# field_types"
   ]
  },
  {
   "cell_type": "code",
   "execution_count": 9,
   "id": "1068e6be-8369-4385-85a8-1883f6711098",
   "metadata": {},
   "outputs": [],
   "source": [
    "# field_names"
   ]
  },
  {
   "cell_type": "code",
   "execution_count": 10,
   "id": "695accb5-ddd2-403d-9e13-30a8e6e04910",
   "metadata": {},
   "outputs": [
    {
     "name": "stdout",
     "output_type": "stream",
     "text": [
      "load 3G file need: 0.4451870918273926\n"
     ]
    }
   ],
   "source": [
    "# 使用pyflink加载csv文件测试\n",
    "source_csv_path = \"./dataset/created_in_loan_behavior.csv\"\n",
    "\n",
    "import time\n",
    "time1 = time.time()\n",
    "table_source = CsvTableSource(source_path=source_csv_path, field_names=field_names, field_types=field_types, \n",
    "                              ignore_first_line=True)\n",
    "\n",
    "table = t_env.from_table_source(table_source)\n",
    "time2 = time.time()\n",
    "print(\"load 3G file need: {}\".format(time2 - time1))\n",
    "# table.to_pandas().head(10)\n",
    "# time3 = time.time()\n",
    "# print(\"3G file trasfer to pandas: {}\".format(time3 - time2)) # >= 10min"
   ]
  },
  {
   "cell_type": "code",
   "execution_count": 11,
   "id": "077b9977-9aa3-4198-90df-1001e49e0b82",
   "metadata": {},
   "outputs": [
    {
     "name": "stdout",
     "output_type": "stream",
     "text": [
      "select and transfer need: 0.2020866870880127\n"
     ]
    }
   ],
   "source": [
    "# 使用pyfink table读取部分列测试\n",
    "time1 = time.time()\n",
    "table01 = table.select(table.ID, table.ACCT_NO, table.ID_NO, table.CIRCULATION_TAG, table.CURR_CIRCULATION_TAG)\n",
    "# table = table.select(col(\"*\"))\n",
    "# table01.to_pandas()\n",
    "time2 = time.time()\n",
    "print(\"select and transfer need: {}\".format(time2 - time1))"
   ]
  },
  {
   "cell_type": "code",
   "execution_count": 12,
   "id": "4dca97c0-a101-4d4b-8a87-60fbb7b3ee88",
   "metadata": {},
   "outputs": [
    {
     "name": "stdout",
     "output_type": "stream",
     "text": [
      "read csv need directly: 11.031697034835815\n"
     ]
    },
    {
     "data": {
      "text/html": [
       "<div>\n",
       "<style scoped>\n",
       "    .dataframe tbody tr th:only-of-type {\n",
       "        vertical-align: middle;\n",
       "    }\n",
       "\n",
       "    .dataframe tbody tr th {\n",
       "        vertical-align: top;\n",
       "    }\n",
       "\n",
       "    .dataframe thead th {\n",
       "        text-align: right;\n",
       "    }\n",
       "</style>\n",
       "<table border=\"1\" class=\"dataframe\">\n",
       "  <thead>\n",
       "    <tr style=\"text-align: right;\">\n",
       "      <th></th>\n",
       "      <th>ID</th>\n",
       "      <th>ACCT_NO</th>\n",
       "      <th>ID_NO</th>\n",
       "      <th>CIRCULATION_TAG</th>\n",
       "      <th>CURR_CIRCULATION_TAG</th>\n",
       "    </tr>\n",
       "  </thead>\n",
       "  <tbody>\n",
       "    <tr>\n",
       "      <th>0</th>\n",
       "      <td>123456789</td>\n",
       "      <td>123</td>\n",
       "      <td>i love meituan</td>\n",
       "      <td>i love meituan</td>\n",
       "      <td>i love meituan</td>\n",
       "    </tr>\n",
       "    <tr>\n",
       "      <th>1</th>\n",
       "      <td>123456789</td>\n",
       "      <td>123</td>\n",
       "      <td>i love meituan</td>\n",
       "      <td>i love meituan</td>\n",
       "      <td>i love meituan</td>\n",
       "    </tr>\n",
       "    <tr>\n",
       "      <th>2</th>\n",
       "      <td>123456789</td>\n",
       "      <td>123</td>\n",
       "      <td>i love meituan</td>\n",
       "      <td>i love meituan</td>\n",
       "      <td>i love meituan</td>\n",
       "    </tr>\n",
       "    <tr>\n",
       "      <th>3</th>\n",
       "      <td>123456789</td>\n",
       "      <td>123</td>\n",
       "      <td>i love meituan</td>\n",
       "      <td>i love meituan</td>\n",
       "      <td>i love meituan</td>\n",
       "    </tr>\n",
       "    <tr>\n",
       "      <th>4</th>\n",
       "      <td>123456789</td>\n",
       "      <td>123</td>\n",
       "      <td>i love meituan</td>\n",
       "      <td>i love meituan</td>\n",
       "      <td>i love meituan</td>\n",
       "    </tr>\n",
       "    <tr>\n",
       "      <th>...</th>\n",
       "      <td>...</td>\n",
       "      <td>...</td>\n",
       "      <td>...</td>\n",
       "      <td>...</td>\n",
       "      <td>...</td>\n",
       "    </tr>\n",
       "    <tr>\n",
       "      <th>999995</th>\n",
       "      <td>123456789</td>\n",
       "      <td>123</td>\n",
       "      <td>i love meituan</td>\n",
       "      <td>i love meituan</td>\n",
       "      <td>i love meituan</td>\n",
       "    </tr>\n",
       "    <tr>\n",
       "      <th>999996</th>\n",
       "      <td>123456789</td>\n",
       "      <td>123</td>\n",
       "      <td>i love meituan</td>\n",
       "      <td>i love meituan</td>\n",
       "      <td>i love meituan</td>\n",
       "    </tr>\n",
       "    <tr>\n",
       "      <th>999997</th>\n",
       "      <td>123456789</td>\n",
       "      <td>123</td>\n",
       "      <td>i love meituan</td>\n",
       "      <td>i love meituan</td>\n",
       "      <td>i love meituan</td>\n",
       "    </tr>\n",
       "    <tr>\n",
       "      <th>999998</th>\n",
       "      <td>123456789</td>\n",
       "      <td>123</td>\n",
       "      <td>i love meituan</td>\n",
       "      <td>i love meituan</td>\n",
       "      <td>i love meituan</td>\n",
       "    </tr>\n",
       "    <tr>\n",
       "      <th>999999</th>\n",
       "      <td>123456789</td>\n",
       "      <td>123</td>\n",
       "      <td>i love meituan</td>\n",
       "      <td>i love meituan</td>\n",
       "      <td>i love meituan</td>\n",
       "    </tr>\n",
       "  </tbody>\n",
       "</table>\n",
       "<p>1000000 rows × 5 columns</p>\n",
       "</div>"
      ],
      "text/plain": [
       "               ID  ACCT_NO           ID_NO CIRCULATION_TAG  \\\n",
       "0       123456789      123  i love meituan  i love meituan   \n",
       "1       123456789      123  i love meituan  i love meituan   \n",
       "2       123456789      123  i love meituan  i love meituan   \n",
       "3       123456789      123  i love meituan  i love meituan   \n",
       "4       123456789      123  i love meituan  i love meituan   \n",
       "...           ...      ...             ...             ...   \n",
       "999995  123456789      123  i love meituan  i love meituan   \n",
       "999996  123456789      123  i love meituan  i love meituan   \n",
       "999997  123456789      123  i love meituan  i love meituan   \n",
       "999998  123456789      123  i love meituan  i love meituan   \n",
       "999999  123456789      123  i love meituan  i love meituan   \n",
       "\n",
       "       CURR_CIRCULATION_TAG  \n",
       "0            i love meituan  \n",
       "1            i love meituan  \n",
       "2            i love meituan  \n",
       "3            i love meituan  \n",
       "4            i love meituan  \n",
       "...                     ...  \n",
       "999995       i love meituan  \n",
       "999996       i love meituan  \n",
       "999997       i love meituan  \n",
       "999998       i love meituan  \n",
       "999999       i love meituan  \n",
       "\n",
       "[1000000 rows x 5 columns]"
      ]
     },
     "execution_count": 12,
     "metadata": {},
     "output_type": "execute_result"
    }
   ],
   "source": [
    "# 使用pandas直接读取部分列测试\n",
    "import pandas as pd\n",
    "time1 = time.time()\n",
    "usecols = [\"ID\", \"ACCT_NO\", \"ID_NO\", 'CIRCULATION_TAG',\n",
    " 'CURR_CIRCULATION_TAG',]\n",
    "# 注意csv文件中没有表头，需要设置header和names\n",
    "df = pd.read_csv(source_csv_path, usecols=usecols, header=None, names=field_names)\n",
    "time2 = time.time()\n",
    "print(\"read csv need directly: {}\".format(time2 - time1))\n",
    "df"
   ]
  },
  {
   "cell_type": "markdown",
   "id": "dc8128a1-f122-4f81-b5a3-98b8ac835862",
   "metadata": {},
   "source": []
  }
 ],
 "metadata": {
  "kernelspec": {
   "display_name": "Python 3",
   "language": "python",
   "name": "python3"
  },
  "language_info": {
   "codemirror_mode": {
    "name": "ipython",
    "version": 3
   },
   "file_extension": ".py",
   "mimetype": "text/x-python",
   "name": "python",
   "nbconvert_exporter": "python",
   "pygments_lexer": "ipython3",
   "version": "3.6.13"
  }
 },
 "nbformat": 4,
 "nbformat_minor": 5
}